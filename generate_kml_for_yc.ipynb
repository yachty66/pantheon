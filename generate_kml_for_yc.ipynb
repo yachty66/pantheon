{
 "cells": [
  {
   "cell_type": "code",
   "execution_count": null,
   "metadata": {},
   "outputs": [],
   "source": []
  },
  {
   "cell_type": "code",
   "execution_count": 3,
   "metadata": {},
   "outputs": [
    {
     "name": "stdout",
     "output_type": "stream",
     "text": [
      "KML file has been created successfully.\n"
     ]
    }
   ],
   "source": [
    "import json\n",
    "import xml.etree.ElementTree as ET\n",
    "\n",
    "# Load JSON data from file\n",
    "with open('data_sf_companies_san_francisco.json', 'r') as file:\n",
    "    data = json.load(file)\n",
    "\n",
    "# Create the root element of the KML file\n",
    "kml = ET.Element('kml', xmlns=\"http://www.opengis.net/kml/2.2\")\n",
    "document = ET.SubElement(kml, 'Document')\n",
    "\n",
    "# Helper function to format social links\n",
    "def format_socials(socials):\n",
    "    return ', '.join(url for url in socials.values() if url != \"Not available\")\n",
    "\n",
    "# Iterate over each company in the JSON data\n",
    "for index, company in enumerate(data):\n",
    "    # Define a unique style id for each company\n",
    "    style_id = f\"companyStyle{index}\"\n",
    "    \n",
    "    # Create a Style element for the company\n",
    "    style = ET.SubElement(document, 'Style', id=style_id)\n",
    "    icon_style = ET.SubElement(style, 'IconStyle')\n",
    "    icon = ET.SubElement(icon_style, 'Icon')\n",
    "    icon_href = ET.SubElement(icon, 'href')\n",
    "    icon_href.text = company.get('profile_picture_url', 'https://example.com/default_image.png')\n",
    "    \n",
    "    # Create a Placemark element for each company\n",
    "    placemark = ET.SubElement(document, 'Placemark')\n",
    "    \n",
    "    # Reference the style for this placemark\n",
    "    style_url = ET.SubElement(placemark, 'styleUrl')\n",
    "    style_url.text = f\"#{style_id}\"\n",
    "    \n",
    "    # Add name element\n",
    "    name = ET.SubElement(placemark, 'name')\n",
    "    name.text = company.get('name', 'No Name')\n",
    "    \n",
    "    # Add description element with HTML content\n",
    "    description = ET.SubElement(placemark, 'description')\n",
    "    description_parts = [\n",
    "        f\"<div><strong>URL:</strong> <a href='{company.get('url', '#')}'>{company.get('url', 'No URL')}</a></div>\",\n",
    "        f\"<div><strong>Name:</strong> {company.get('name', 'No Name')}</div>\",\n",
    "        f\"<div><strong>Status:</strong> {company.get('status', 'No Status')}</div>\",\n",
    "        f\"<div><strong>Founded:</strong> {company.get('founded', 'No Information')}</div>\",\n",
    "        f\"<div><strong>Team Size:</strong> {company.get('team_size', 'No Information')}</div>\",\n",
    "        f\"<div><strong>Location:</strong> {company.get('location', 'No Location')}</div>\",\n",
    "        f\"<div><strong>Address:</strong> {company.get('address', 'No Address')}</div>\",\n",
    "        f\"<div><strong>Company Socials:</strong> {format_socials(company.get('socials', {}))}</div>\",\n",
    "        \"<div><strong>Founders:</strong> \" + ', '.join(\n",
    "            f\"{founder['name']} ({format_socials(founder.get('socials', {}))})\" for founder in company.get('founders', [])\n",
    "        ) + \"</div>\",\n",
    "        f\"<div><strong>Description:</strong> {company.get('description', 'No Description')}</div>\",\n",
    "    ]\n",
    "    description_text = \"<![CDATA[\" + \"<br>\".join(part for part in description_parts if 'No ' not in part) + \"\"\n",
    "    description.text = description_text\n",
    "    \n",
    "    # Add Point element with coordinates\n",
    "    point = ET.SubElement(placemark, 'Point')\n",
    "    coordinates = ET.SubElement(point, 'coordinates')\n",
    "    coordinates.text = f\"{company.get('longitude', 0)},{company.get('latitude', 0)},0\"\n",
    "\n",
    "# Convert the ElementTree to a string\n",
    "kml_string = ET.tostring(kml, encoding='utf-8', method='xml').decode('utf-8')\n",
    "\n",
    "# Save the KML to a file\n",
    "with open('y_combinator_companies_san_francisco.kml', 'w') as kml_file:\n",
    "    kml_file.write(kml_string)\n",
    "\n",
    "print(\"KML file has been created successfully.\")"
   ]
  },
  {
   "cell_type": "code",
   "execution_count": null,
   "metadata": {},
   "outputs": [],
   "source": []
  }
 ],
 "metadata": {
  "kernelspec": {
   "display_name": "base",
   "language": "python",
   "name": "python3"
  },
  "language_info": {
   "codemirror_mode": {
    "name": "ipython",
    "version": 3
   },
   "file_extension": ".py",
   "mimetype": "text/x-python",
   "name": "python",
   "nbconvert_exporter": "python",
   "pygments_lexer": "ipython3",
   "version": "3.11.7"
  }
 },
 "nbformat": 4,
 "nbformat_minor": 2
}

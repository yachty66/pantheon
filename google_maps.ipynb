{
 "cells": [
  {
   "cell_type": "code",
   "execution_count": null,
   "metadata": {},
   "outputs": [],
   "source": [
    "#what i need to do is to \n",
    "\n",
    "# 1. make gmaps query “company name san francisco” --> \n",
    "# 2. let a agent run over this and have him extract all the addresses where he actually thinks this could be the address of an actual office\n",
    "# 3. create the interactive map for san francisco where each pin represents a company - the pin is the company profile pic and on click of it all the other metadata is displayed"
   ]
  }
 ],
 "metadata": {
  "language_info": {
   "name": "python"
  }
 },
 "nbformat": 4,
 "nbformat_minor": 2
}

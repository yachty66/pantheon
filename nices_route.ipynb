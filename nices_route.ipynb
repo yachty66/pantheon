{
 "cells": [
  {
   "cell_type": "code",
   "execution_count": null,
   "metadata": {},
   "outputs": [],
   "source": [
    "\"\"\"\n",
    "useful research:\n",
    "\n",
    "# Academic Papers on Pleasant Routing\n",
    "\n",
    "1. \"The Shortest Path to Happiness: Recommending Beautiful, Quiet, and Happy Routes in the City\" (2014)\n",
    "   Authors: Daniele Quercia, Rossano Schifanella, Luca Maria Aiello\n",
    "   Published in: Proceedings of the 25th ACM Conference on Hypertext and Social Media\n",
    "   DOI: 10.1145/2631775.2631799\n",
    "\n",
    "2. \"Recommendation of Personalized Trip Based on Emotion and Scenic Spot\" (2018)\n",
    "   Authors: Xing Chen, Zhenyu Wan, Xiangjie Kong, Feng Xia\n",
    "   Published in: IEEE Access\n",
    "   DOI: 10.1109/ACCESS.2018.2825988\n",
    "\n",
    "3. \"Emotional Maps: Considering Subjective Factors in Routing Applications\" (2019)\n",
    "   Authors: Mauro Cherubini, Fabio Duarte, Pedro Cruz, Carlo Ratti\n",
    "   Published in: Environment and Planning B: Urban Analytics and City Science\n",
    "   DOI: 10.1177/2399808319852632\n",
    "\n",
    "4. \"A Bi-Objective Path Finding Algorithm for Customized Route Planning\" (2020)\n",
    "   Authors: Yifei Lu, Zhenghao Xu, Lingjie Sun, Keiji Iramina\n",
    "   Published in: ISPRS International Journal of Geo-Information\n",
    "   DOI: 10.3390/ijgi9120705\n",
    "\n",
    "5. \"Pleasant Routes: Incorporating Environmental Factors in Route Planning\" (2021)\n",
    "   Authors: Javier Benitez-Paez, Auriol Degbelo, Sergio Trilles, Joaquín Huerta\n",
    "   Published in: ISPRS International Journal of Geo-Information\n",
    "   DOI: 10.3390/ijgi10110728\n",
    "\n",
    "These papers explore various aspects of pleasant routing, including emotional factors, scenic considerations, and personalized recommendations. They provide insights into methodologies, algorithms, and challenges in implementing such features in navigation systems.\n",
    "\n",
    "\n",
    "lets think this from scratch - what i want is a dataset created by chatgpt which figures what the nicest and walkable way is\n",
    "\"\"\""
   ]
  },
  {
   "cell_type": "code",
   "execution_count": null,
   "metadata": {},
   "outputs": [],
   "source": [
    "\"\"\"\n",
    "start and endpoint inside san francisco, find me the nicest route to go somewhere\n",
    "\n",
    "the nicest route with generative ai is actually quite simple - u just need to provide all the information from an street to the model and the model will decide what the nices route is \n",
    "\n",
    "to cut down the price of this i can just make an initial dataset of all the streets in san francisco\n",
    "\n",
    "\n",
    "\n",
    "\n",
    "\"\"\""
   ]
  }
 ],
 "metadata": {
  "language_info": {
   "name": "python"
  }
 },
 "nbformat": 4,
 "nbformat_minor": 2
}

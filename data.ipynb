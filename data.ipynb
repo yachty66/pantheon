{
 "cells": [
  {
   "cell_type": "code",
   "execution_count": null,
   "metadata": {},
   "outputs": [],
   "source": [
    "import os\n",
    "from bs4 import BeautifulSoup\n",
    "\n",
    "# Directory containing the batch files\n",
    "directory = 'batches'\n",
    "\n",
    "# List to store all company names\n",
    "all_company_names = []\n",
    "\n",
    "# Iterate over all files in the directory\n",
    "for filename in os.listdir(directory):\n",
    "    #print(f\"Processing file: {filename}\")\n",
    "    #if filename.endswith('.html') or filename == 'all':  # Adjust the condition based on your file types\n",
    "    filepath = os.path.join(directory, filename)\n",
    "    \n",
    "    # Load the HTML content from the file\n",
    "    with open(filepath, 'r') as file:\n",
    "        html_content = file.read()\n",
    "    \n",
    "    # Print the first 500 characters of the HTML content for debugging\n",
    "    #print(f\"HTML content of {filename} (first 500 chars): {html_content[:500]}\")\n",
    "    \n",
    "    # Parse the HTML using Beautiful Soup\n",
    "    soup = BeautifulSoup(html_content, 'html.parser')\n",
    "    \n",
    "    # Find all anchor tags with class '_company_99gj3_339'\n",
    "    company_links = soup.find_all('a', class_='_company_99gj3_339')\n",
    "    #print(f\"Found {len(company_links)} company links in {filename}\")\n",
    "    \n",
    "    # Extract the company names from the nested spans\n",
    "    company_names = [link.find(class_='_coName_99gj3_454').text for link in company_links if link.find(class_='_coName_99gj3_454')]\n",
    "    \n",
    "    # Add the company names to the list\n",
    "    all_company_names.extend(company_names)\n",
    "\n",
    "# Print or process the company names\n",
    "#print(f\"Total company names found: {len(all_company_names)}\")\n",
    "print(all_company_names)"
   ]
  },
  {
   "cell_type": "code",
   "execution_count": null,
   "metadata": {},
   "outputs": [],
   "source": [
    "#need to get all the links"
   ]
  }
 ],
 "metadata": {
  "language_info": {
   "name": "python"
  }
 },
 "nbformat": 4,
 "nbformat_minor": 2
}
